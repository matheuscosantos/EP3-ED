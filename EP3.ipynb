{
 "cells": [
  {
   "cell_type": "code",
   "execution_count": 202,
   "metadata": {},
   "outputs": [],
   "source": [
    "matriz = '''1 0 0 1 1 0 1\n",
    "1 1 0 1 1 1 0\n",
    "0 0 0 0 0 0 1\n",
    "1 1 1 0 0 0 1 \n",
    "0 1 1 0 1 0 1'''\n",
    "\n",
    "matriz = matriz.split('\\n')\n",
    "esquerda = 0\n",
    "cima = 0\n",
    "cnt = 0\n",
    "aux = []\n",
    "for item in matriz: aux.append(item.split(' '))\n",
    "matriz = aux\n",
    "i = 0\n",
    "j = 0\n",
    "\n",
    "for i in range(len(aux)):\n",
    "    for j in range(len(aux[0])):\n",
    "        matriz[i][j] = int(aux[i][j])"
   ]
  },
  {
   "cell_type": "code",
   "execution_count": 197,
   "metadata": {},
   "outputs": [],
   "source": [
    "numLinhas = len(matriz)\n",
    "numColunas = len(matriz[0])\n",
    "grupoMatriz = [[0]*numColunas for i in range(numLinhas)]"
   ]
  },
  {
   "cell_type": "code",
   "execution_count": 198,
   "metadata": {},
   "outputs": [],
   "source": [
    "grupoID = []\n",
    "grupoID.append(0)\n",
    "\n",
    "proximoGrupo = 1"
   ]
  },
  {
   "cell_type": "code",
   "execution_count": 199,
   "metadata": {},
   "outputs": [],
   "source": [
    "x = 0\n",
    "y = 0\n",
    "for x in range(numLinhas):\n",
    "    for y in range(numColunas):\n",
    "        if(matriz[x][y] == 0): continue\n",
    "            \n",
    "        esquerda = 0            \n",
    "        if (y != 0): esquerda = grupoMatriz[x][y -1]\n",
    "        esquerda = grupoID[esquerda]\n",
    "\n",
    "        cima = 0\n",
    "        if(x != 0): cima = grupoMatriz[x - 1][y]\n",
    "        cima = grupoID[cima]\n",
    "\n",
    "        if(esquerda == 0) and (cima == 0):\n",
    "            grupoMatriz[x][y] = proximoGrupo\n",
    "            grupoID.append(proximoGrupo)\n",
    "            proximoGrupo = proximoGrupo + 1\n",
    "        elif( esquerda != 0) and (cima != 0):\n",
    "            if(esquerda > cima):\n",
    "                grupoMatriz[x][y] = cima\n",
    "                grupoID[esquerda] = cima\n",
    "            else:\n",
    "                grupoMatriz[x][y] = esquerda\n",
    "                grupoID[cima] = esquerda\n",
    "        elif(cima == 0):\n",
    "            grupoMatriz[x][y] = esquerda\n",
    "        else:\n",
    "            grupoMatriz[x][y] = cima\n",
    "\n",
    "cnt = 0\n",
    "i = 1\n",
    "\n",
    "for i in range(len(grupoID)):\n",
    "    if(i == grupoID[i]): cnt = cnt + 1   "
   ]
  },
  {
   "cell_type": "code",
   "execution_count": 200,
   "metadata": {},
   "outputs": [
    {
     "name": "stdout",
     "output_type": "stream",
     "text": [
      "[1, 0, 0, 2, 2, 0, 3]\n",
      "[1, 1, 0, 2, 2, 2, 0]\n",
      "[0, 0, 0, 0, 0, 0, 4]\n",
      "[5, 5, 5, 0, 0, 0, 4]\n",
      "[0, 5, 5, 0, 6, 0, 4]\n"
     ]
    }
   ],
   "source": [
    "for linha in grupoMatriz:\n",
    "    print(linha)"
   ]
  }
 ],
 "metadata": {
  "kernelspec": {
   "display_name": "Python 3",
   "language": "python",
   "name": "python3"
  },
  "language_info": {
   "codemirror_mode": {
    "name": "ipython",
    "version": 3
   },
   "file_extension": ".py",
   "mimetype": "text/x-python",
   "name": "python",
   "nbconvert_exporter": "python",
   "pygments_lexer": "ipython3",
   "version": "3.6.7"
  }
 },
 "nbformat": 4,
 "nbformat_minor": 2
}
